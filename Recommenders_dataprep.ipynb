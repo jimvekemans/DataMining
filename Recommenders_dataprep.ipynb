{
 "cells": [
  {
   "cell_type": "markdown",
   "id": "regional-initial",
   "metadata": {},
   "source": [
    "### This JS code from stackoverflow allegedly hides python warnings using css selectors"
   ]
  },
  {
   "cell_type": "code",
   "execution_count": 1,
   "id": "heard-bathroom",
   "metadata": {},
   "outputs": [
    {
     "data": {
      "application/javascript": [
       "(function(on) {\n",
       "const e=$( \"<a>Setup failed</a>\" );\n",
       "const ns=\"js_jupyter_suppress_warnings\";\n",
       "var cssrules=$(\"#\"+ns);\n",
       "if(!cssrules.length) cssrules = $(\"<style id='\"+ns+\"' type='text/css'>div.output_stderr { } </style>\").appendTo(\"head\");\n",
       "e.click(function() {\n",
       "    var s='Showing';  \n",
       "    cssrules.empty()\n",
       "    if(on) {\n",
       "        s='Hiding';\n",
       "        cssrules.append(\"div.output_stderr, div[data-mime-type*='.stderr'] { display:none; }\");\n",
       "    }\n",
       "    e.text(s+' warnings (click to toggle)');\n",
       "    on=!on;\n",
       "}).click();\n",
       "$(element).append(e);\n",
       "})(true);\n"
      ],
      "text/plain": [
       "<IPython.core.display.Javascript object>"
      ]
     },
     "metadata": {},
     "output_type": "display_data"
    }
   ],
   "source": [
    "%%javascript\n",
    "(function(on) {\n",
    "const e=$( \"<a>Setup failed</a>\" );\n",
    "const ns=\"js_jupyter_suppress_warnings\";\n",
    "var cssrules=$(\"#\"+ns);\n",
    "if(!cssrules.length) cssrules = $(\"<style id='\"+ns+\"' type='text/css'>div.output_stderr { } </style>\").appendTo(\"head\");\n",
    "e.click(function() {\n",
    "    var s='Showing';  \n",
    "    cssrules.empty()\n",
    "    if(on) {\n",
    "        s='Hiding';\n",
    "        cssrules.append(\"div.output_stderr, div[data-mime-type*='.stderr'] { display:none; }\");\n",
    "    }\n",
    "    e.text(s+' warnings (click to toggle)');\n",
    "    on=!on;\n",
    "}).click();\n",
    "$(element).append(e);\n",
    "})(true);"
   ]
  },
  {
   "cell_type": "code",
   "execution_count": 2,
   "id": "acting-mistress",
   "metadata": {},
   "outputs": [],
   "source": [
    "import pandas as pd\n",
    "import numpy as np\n",
    "\n",
    "import matplotlib.pyplot as plt\n",
    "from sklearn.preprocessing import MinMaxScaler\n",
    "\n",
    "from scipy.spatial.distance import hamming"
   ]
  },
  {
   "cell_type": "code",
   "execution_count": 3,
   "id": "neither-literature",
   "metadata": {},
   "outputs": [
    {
     "name": "stdout",
     "output_type": "stream",
     "text": [
      "<class 'pandas.core.frame.DataFrame'>\n",
      "RangeIndex: 278858 entries, 0 to 278857\n",
      "Data columns (total 3 columns):\n",
      " #   Column    Non-Null Count   Dtype  \n",
      "---  ------    --------------   -----  \n",
      " 0   User-ID   278858 non-null  int64  \n",
      " 1   Location  278858 non-null  object \n",
      " 2   Age       168096 non-null  float64\n",
      "dtypes: float64(1), int64(1), object(1)\n",
      "memory usage: 6.4+ MB\n"
     ]
    }
   ],
   "source": [
    "users = pd.read_csv('./users.csv', delimiter=';')\n",
    "users.info()"
   ]
  },
  {
   "cell_type": "code",
   "execution_count": 4,
   "id": "smoking-reward",
   "metadata": {},
   "outputs": [
    {
     "data": {
      "image/png": "[encoded data removed]",
      "text/plain": [
       "<Figure size 432x288 with 1 Axes>"
      ]
     },
     "metadata": {
      "needs_background": "light"
     },
     "output_type": "display_data"
    }
   ],
   "source": [
    "userAges = pd.Series(users.Age.dropna().astype(int).value_counts()).sort_index(ascending=True)\n",
    "plt.plot(userAges)\n",
    "plt.legend(['User amount (y) of age (x)'])\n",
    "plt.show()"
   ]
  },
  {
   "cell_type": "code",
   "execution_count": 5,
   "id": "compressed-millennium",
   "metadata": {},
   "outputs": [
    {
     "data": {
      "image/png": "[encoded data removed]",
      "text/plain": [
       "<Figure size 432x288 with 1 Axes>"
      ]
     },
     "metadata": {
      "needs_background": "light"
     },
     "output_type": "display_data"
    }
   ],
   "source": [
    "userAges = pd.Series(users.Age.dropna().astype(int).value_counts()).sort_index(ascending=True)[10:80]\n",
    "plt.bar(userAges.index, userAges.values)\n",
    "plt.legend(['User amount (y) of age (x)'])\n",
    "plt.show()"
   ]
  },
  {
   "cell_type": "code",
   "execution_count": 6,
   "id": "imperial-popularity",
   "metadata": {},
   "outputs": [
    {
     "name": "stderr",
     "output_type": "stream",
     "text": [
      "b'Skipping line 6452: expected 8 fields, saw 9\\nSkipping line 43667: expected 8 fields, saw 10\\nSkipping line 51751: expected 8 fields, saw 9\\n'\n",
      "b'Skipping line 92038: expected 8 fields, saw 9\\nSkipping line 104319: expected 8 fields, saw 9\\nSkipping line 121768: expected 8 fields, saw 9\\n'\n",
      "b'Skipping line 144058: expected 8 fields, saw 9\\nSkipping line 150789: expected 8 fields, saw 9\\nSkipping line 157128: expected 8 fields, saw 9\\nSkipping line 180189: expected 8 fields, saw 9\\nSkipping line 185738: expected 8 fields, saw 9\\n'\n",
      "b'Skipping line 209388: expected 8 fields, saw 9\\nSkipping line 220626: expected 8 fields, saw 9\\nSkipping line 227933: expected 8 fields, saw 11\\nSkipping line 228957: expected 8 fields, saw 10\\nSkipping line 245933: expected 8 fields, saw 9\\nSkipping line 251296: expected 8 fields, saw 9\\nSkipping line 259941: expected 8 fields, saw 9\\nSkipping line 261529: expected 8 fields, saw 9\\n'\n"
     ]
    },
    {
     "name": "stdout",
     "output_type": "stream",
     "text": [
      "<class 'pandas.core.frame.DataFrame'>\n",
      "RangeIndex: 271360 entries, 0 to 271359\n",
      "Data columns (total 8 columns):\n",
      " #   Column               Non-Null Count   Dtype \n",
      "---  ------               --------------   ----- \n",
      " 0   ISBN                 271360 non-null  object\n",
      " 1   Book-Title           271360 non-null  object\n",
      " 2   Book-Author          271359 non-null  object\n",
      " 3   Year-Of-Publication  271360 non-null  object\n",
      " 4   Publisher            271358 non-null  object\n",
      " 5   Image-URL-S          271360 non-null  object\n",
      " 6   Image-URL-M          271360 non-null  object\n",
      " 7   Image-URL-L          271357 non-null  object\n",
      "dtypes: object(8)\n",
      "memory usage: 16.6+ MB\n"
     ]
    },
    {
     "name": "stderr",
     "output_type": "stream",
     "text": [
      "/opt/conda/lib/python3.7/site-packages/IPython/core/interactiveshell.py:3147: DtypeWarning: Columns (3) have mixed types.Specify dtype option on import or set low_memory=False.\n",
      "  interactivity=interactivity, compiler=compiler, result=result)\n"
     ]
    }
   ],
   "source": [
    "# Sommige boeken hebben meerdere URLs gescheiden met ; in de laatste kolom staan, dit zorgt voor errors in pandas\n",
    "# De parameter error_bad_lines laat de 8 dataregels vallen waar dit voorkomt\n",
    "# Door het overslaan van sommige rijen klopt de index niet meer volledig, die wordt gereset om dat te herstellen\n",
    "books = pd.read_csv('./books.csv', delimiter=';', error_bad_lines=False).reset_index(drop=True)\n",
    "books.info()"
   ]
  },
  {
   "cell_type": "code",
   "execution_count": 7,
   "id": "exact-valuable",
   "metadata": {},
   "outputs": [],
   "source": [
    "# Er zijn boeken waar year of publication een string bevatten, die moeten er eerst uit worden gefilterd\n",
    "pubYears = books[pd.to_numeric(books['Year-Of-Publication'], errors='coerce').notnull()]['Year-Of-Publication'].astype(int)"
   ]
  },
  {
   "cell_type": "code",
   "execution_count": 8,
   "id": "peripheral-gauge",
   "metadata": {},
   "outputs": [
    {
     "data": {
      "image/png": "[encoded data removed]",
      "text/plain": [
       "<Figure size 432x288 with 1 Axes>"
      ]
     },
     "metadata": {
      "needs_background": "light"
     },
     "output_type": "display_data"
    }
   ],
   "source": [
    "publicationYears = pd.Series(pubYears.dropna().value_counts()).sort_index(ascending=True)\n",
    "plt.bar(publicationYears.index, publicationYears.values)\n",
    "plt.legend(['Books released per year'])\n",
    "plt.show()"
   ]
  },
  {
   "cell_type": "code",
   "execution_count": 9,
   "id": "general-sampling",
   "metadata": {},
   "outputs": [
    {
     "data": {
      "image/png": "[encoded data removed]",
      "text/plain": [
       "<Figure size 432x288 with 1 Axes>"
      ]
     },
     "metadata": {
      "needs_background": "light"
     },
     "output_type": "display_data"
    }
   ],
   "source": [
    "publicationYears = pd.Series(pubYears.dropna().value_counts()).sort_index(ascending=True)[-80:-10]\n",
    "plt.bar(publicationYears.index, publicationYears.values)\n",
    "plt.legend(['Books released per year'])\n",
    "plt.show()"
   ]
  },
  {
   "cell_type": "code",
   "execution_count": 10,
   "id": "compressed-silicon",
   "metadata": {},
   "outputs": [
    {
     "data": {
      "text/plain": [
       "1939       9\n",
       "1940      36\n",
       "1941      10\n",
       "1942      14\n",
       "1943       8\n",
       "        ... \n",
       "2004    5839\n",
       "2005      46\n",
       "2006       3\n",
       "2008       1\n",
       "2010       2\n",
       "Name: Year-Of-Publication, Length: 70, dtype: int64"
      ]
     },
     "execution_count": 10,
     "metadata": {},
     "output_type": "execute_result"
    }
   ],
   "source": [
    "publicationYears"
   ]
  },
  {
   "cell_type": "code",
   "execution_count": 11,
   "id": "modern-economics",
   "metadata": {},
   "outputs": [
    {
     "name": "stdout",
     "output_type": "stream",
     "text": [
      "<class 'pandas.core.frame.DataFrame'>\n",
      "RangeIndex: 1149780 entries, 0 to 1149779\n",
      "Data columns (total 3 columns):\n",
      " #   Column       Non-Null Count    Dtype \n",
      "---  ------       --------------    ----- \n",
      " 0   User-ID      1149780 non-null  int64 \n",
      " 1   ISBN         1149780 non-null  object\n",
      " 2   Book-Rating  1149780 non-null  int64 \n",
      "dtypes: int64(2), object(1)\n",
      "memory usage: 26.3+ MB\n"
     ]
    }
   ],
   "source": [
    "ratings = pd.read_csv('./ratings.csv', delimiter=';')\n",
    "ratings.info()"
   ]
  },
  {
   "cell_type": "code",
   "execution_count": 12,
   "id": "administrative-fault",
   "metadata": {},
   "outputs": [
    {
     "data": {
      "image/png": "[encoded data removed]",
      "text/plain": [
       "<Figure size 432x288 with 1 Axes>"
      ]
     },
     "metadata": {
      "needs_background": "light"
     },
     "output_type": "display_data"
    }
   ],
   "source": [
    "ratingScores = pd.Series(ratings['Book-Rating'].dropna().astype(int).value_counts()).sort_index(ascending=True)\n",
    "plt.bar(ratingScores.index, ratingScores.values)\n",
    "plt.legend(['Scores given in reviews'])\n",
    "plt.show()"
   ]
  },
  {
   "cell_type": "markdown",
   "id": "nasty-baghdad",
   "metadata": {},
   "source": [
    "### Kolomnames wijzigen om duidelijk te maken welke data uit welk dataframe komt, helpt verwarring te vermijden bij het mergen van de drie datasets"
   ]
  },
  {
   "cell_type": "code",
   "execution_count": 13,
   "id": "former-twenty",
   "metadata": {},
   "outputs": [
    {
     "name": "stdout",
     "output_type": "stream",
     "text": [
      "<class 'pandas.core.frame.DataFrame'>\n",
      "RangeIndex: 278858 entries, 0 to 278857\n",
      "Data columns (total 3 columns):\n",
      " #   Column         Non-Null Count   Dtype  \n",
      "---  ------         --------------   -----  \n",
      " 0   User-ID        278858 non-null  int64  \n",
      " 1   User-Location  278858 non-null  object \n",
      " 2   User-Age       168096 non-null  float64\n",
      "dtypes: float64(1), int64(1), object(1)\n",
      "memory usage: 6.4+ MB\n"
     ]
    }
   ],
   "source": [
    "new_user_colnames = {\n",
    "    \"User-ID\": \"User-ID\",\n",
    "    \"Location\": \"User-Location\",\n",
    "    \"Age\": \"User-Age\"\n",
    "}\n",
    "users = users.rename(columns = new_user_colnames)\n",
    "users.info()"
   ]
  },
  {
   "cell_type": "code",
   "execution_count": 14,
   "id": "entire-premiere",
   "metadata": {},
   "outputs": [
    {
     "name": "stdout",
     "output_type": "stream",
     "text": [
      "<class 'pandas.core.frame.DataFrame'>\n",
      "RangeIndex: 271360 entries, 0 to 271359\n",
      "Data columns (total 5 columns):\n",
      " #   Column                    Non-Null Count   Dtype \n",
      "---  ------                    --------------   ----- \n",
      " 0   ISBN                      271360 non-null  object\n",
      " 1   Book-Title                271360 non-null  object\n",
      " 2   Book-Author               271359 non-null  object\n",
      " 3   Book-Year-Of-Publication  271360 non-null  object\n",
      " 4   Book-Publisher            271358 non-null  object\n",
      "dtypes: object(5)\n",
      "memory usage: 10.4+ MB\n"
     ]
    }
   ],
   "source": [
    "new_book_colnames = {\n",
    "    \"ISBN\": \"ISBN\",\n",
    "    \"Book-Title\": \"Book-Title\",\n",
    "    \"Book-Author\": \"Book-Author\",\n",
    "    \"Year-Of-Publication\": \"Book-Year-Of-Publication\",\n",
    "    \"Publisher\": \"Book-Publisher\"\n",
    "}\n",
    "# De kolommen met URLs in zijn nooit interessant voor een recommender dus die laat ik wegvallen\n",
    "books = books.drop(columns=['Image-URL-S', 'Image-URL-M', 'Image-URL-L']).rename(columns = new_book_colnames)\n",
    "books.info()"
   ]
  },
  {
   "cell_type": "code",
   "execution_count": 15,
   "id": "senior-bloom",
   "metadata": {},
   "outputs": [
    {
     "name": "stdout",
     "output_type": "stream",
     "text": [
      "<class 'pandas.core.frame.DataFrame'>\n",
      "Int64Index: 1324564 entries, 0 to 1324563\n",
      "Data columns (total 9 columns):\n",
      " #   Column                    Non-Null Count    Dtype  \n",
      "---  ------                    --------------    -----  \n",
      " 0   ISBN                      1150989 non-null  object \n",
      " 1   Book-Title                1032345 non-null  object \n",
      " 2   Book-Author               1032344 non-null  object \n",
      " 3   Book-Year-Of-Publication  1032345 non-null  object \n",
      " 4   Book-Publisher            1032343 non-null  object \n",
      " 5   User-ID                   1323355 non-null  float64\n",
      " 6   Book-Rating               1149780 non-null  float64\n",
      " 7   User-Location             1323355 non-null  object \n",
      " 8   User-Age                  946277 non-null   float64\n",
      "dtypes: float64(3), object(6)\n",
      "memory usage: 101.1+ MB\n"
     ]
    }
   ],
   "source": [
    "# create merged_dataset of all data\n",
    "merged_data = pd.merge(pd.merge(books, ratings, how='outer'), users, how='outer')\n",
    "merged_data.info()"
   ]
  },
  {
   "cell_type": "markdown",
   "id": "sexual-youth",
   "metadata": {},
   "source": [
    "### Save merged dataset in 10 parts to fake 10 1-day batches of data for mapreduce project"
   ]
  },
  {
   "cell_type": "code",
   "execution_count": 16,
   "id": "stupid-castle",
   "metadata": {},
   "outputs": [],
   "source": [
    "for i in range(10):\n",
    "    rows = merged_data.shape[0]\n",
    "    start = int((rows/10)*i)\n",
    "    end = int(start + (rows/10))\n",
    "    if end > rows:\n",
    "        merged_data[start:].to_csv(f'./mapred_dataset_{i}.csv', sep=';', header=False, index=False)\n",
    "    else:\n",
    "        merged_data[start:end].to_csv(f'./mapred_dataset_{i}.csv', sep=';', header=False, index=False)"
   ]
  },
  {
   "cell_type": "markdown",
   "id": "educated-guitar",
   "metadata": {},
   "source": [
    "### Remove books with less than 10 reviews to reduce processing time/cost for recommender"
   ]
  },
  {
   "cell_type": "code",
   "execution_count": 17,
   "id": "sealed-lease",
   "metadata": {},
   "outputs": [
    {
     "data": {
      "text/plain": [
       "0971880107    2502\n",
       "0316666343    1295\n",
       "0385504209     883\n",
       "0060928336     732\n",
       "0312195516     723\n",
       "              ... \n",
       "0441833446       1\n",
       "8473931602       1\n",
       "037382243X       1\n",
       "3436012483       1\n",
       "0465039138       1\n",
       "Name: ISBN, Length: 341765, dtype: int64"
      ]
     },
     "execution_count": 17,
     "metadata": {},
     "output_type": "execute_result"
    }
   ],
   "source": [
    "merged_data['ISBN'].value_counts()"
   ]
  },
  {
   "cell_type": "code",
   "execution_count": 18,
   "id": "furnished-jurisdiction",
   "metadata": {},
   "outputs": [
    {
     "data": {
      "text/plain": [
       "0971880107    2502\n",
       "0316666343    1295\n",
       "0385504209     883\n",
       "0060928336     732\n",
       "0312195516     723\n",
       "              ... \n",
       "0671019015      10\n",
       "9728436408      10\n",
       "2070360377      10\n",
       "0451526236      10\n",
       "0345353129      10\n",
       "Name: ISBN, Length: 18319, dtype: int64"
      ]
     },
     "execution_count": 18,
     "metadata": {},
     "output_type": "execute_result"
    }
   ],
   "source": [
    "most_ratings_per_book = merged_data['ISBN'].value_counts()\n",
    "to_remove = most_ratings_per_book[most_ratings_per_book < 10].index\n",
    "most_ratings_per_book.drop(to_remove, inplace=True)\n",
    "most_ratings_per_book"
   ]
  },
  {
   "cell_type": "code",
   "execution_count": 19,
   "id": "sitting-sally",
   "metadata": {},
   "outputs": [
    {
     "data": {
      "text/html": [
       "<div>\n",
       "<style scoped>\n",
       "    .dataframe tbody tr th:only-of-type {\n",
       "        vertical-align: middle;\n",
       "    }\n",
       "\n",
       "    .dataframe tbody tr th {\n",
       "        vertical-align: top;\n",
       "    }\n",
       "\n",
       "    .dataframe thead th {\n",
       "        text-align: right;\n",
       "    }\n",
       "</style>\n",
       "<table border=\"1\" class=\"dataframe\">\n",
       "  <thead>\n",
       "    <tr style=\"text-align: right;\">\n",
       "      <th></th>\n",
       "      <th>ISBN</th>\n",
       "      <th>Book-Title</th>\n",
       "      <th>Book-Author</th>\n",
       "      <th>Book-Year-Of-Publication</th>\n",
       "      <th>Book-Publisher</th>\n",
       "      <th>User-ID</th>\n",
       "      <th>Book-Rating</th>\n",
       "      <th>User-Location</th>\n",
       "      <th>User-Age</th>\n",
       "    </tr>\n",
       "  </thead>\n",
       "  <tbody>\n",
       "    <tr>\n",
       "      <th>1</th>\n",
       "      <td>0002005018</td>\n",
       "      <td>Clara Callan</td>\n",
       "      <td>Richard Bruce Wright</td>\n",
       "      <td>2001</td>\n",
       "      <td>HarperFlamingo Canada</td>\n",
       "      <td>8.0</td>\n",
       "      <td>5.0</td>\n",
       "      <td>timmins, ontario, canada</td>\n",
       "      <td>NaN</td>\n",
       "    </tr>\n",
       "    <tr>\n",
       "      <th>3</th>\n",
       "      <td>0374157065</td>\n",
       "      <td>Flu: The Story of the Great Influenza Pandemic...</td>\n",
       "      <td>Gina Bari Kolata</td>\n",
       "      <td>1999</td>\n",
       "      <td>Farrar Straus Giroux</td>\n",
       "      <td>8.0</td>\n",
       "      <td>0.0</td>\n",
       "      <td>timmins, ontario, canada</td>\n",
       "      <td>NaN</td>\n",
       "    </tr>\n",
       "    <tr>\n",
       "      <th>5</th>\n",
       "      <td>0399135782</td>\n",
       "      <td>The Kitchen God's Wife</td>\n",
       "      <td>Amy Tan</td>\n",
       "      <td>1991</td>\n",
       "      <td>Putnam Pub Group</td>\n",
       "      <td>8.0</td>\n",
       "      <td>0.0</td>\n",
       "      <td>timmins, ontario, canada</td>\n",
       "      <td>NaN</td>\n",
       "    </tr>\n",
       "    <tr>\n",
       "      <th>19</th>\n",
       "      <td>0002005018</td>\n",
       "      <td>Clara Callan</td>\n",
       "      <td>Richard Bruce Wright</td>\n",
       "      <td>2001</td>\n",
       "      <td>HarperFlamingo Canada</td>\n",
       "      <td>11400.0</td>\n",
       "      <td>0.0</td>\n",
       "      <td>ottawa, ontario, canada</td>\n",
       "      <td>49.0</td>\n",
       "    </tr>\n",
       "    <tr>\n",
       "      <th>20</th>\n",
       "      <td>0786868716</td>\n",
       "      <td>The Five People You Meet in Heaven</td>\n",
       "      <td>Mitch Albom</td>\n",
       "      <td>2003</td>\n",
       "      <td>Hyperion</td>\n",
       "      <td>11400.0</td>\n",
       "      <td>9.0</td>\n",
       "      <td>ottawa, ontario, canada</td>\n",
       "      <td>49.0</td>\n",
       "    </tr>\n",
       "    <tr>\n",
       "      <th>...</th>\n",
       "      <td>...</td>\n",
       "      <td>...</td>\n",
       "      <td>...</td>\n",
       "      <td>...</td>\n",
       "      <td>...</td>\n",
       "      <td>...</td>\n",
       "      <td>...</td>\n",
       "      <td>...</td>\n",
       "      <td>...</td>\n",
       "    </tr>\n",
       "    <tr>\n",
       "      <th>1148009</th>\n",
       "      <td>342619581X</td>\n",
       "      <td>NaN</td>\n",
       "      <td>NaN</td>\n",
       "      <td>NaN</td>\n",
       "      <td>NaN</td>\n",
       "      <td>216615.0</td>\n",
       "      <td>0.0</td>\n",
       "      <td>dortmund, nordrhein-westfalen, germany</td>\n",
       "      <td>22.0</td>\n",
       "    </tr>\n",
       "    <tr>\n",
       "      <th>1148010</th>\n",
       "      <td>3546003470</td>\n",
       "      <td>NaN</td>\n",
       "      <td>NaN</td>\n",
       "      <td>NaN</td>\n",
       "      <td>NaN</td>\n",
       "      <td>197820.0</td>\n",
       "      <td>0.0</td>\n",
       "      <td>cologne, nordrhein-westfalen, germany</td>\n",
       "      <td>20.0</td>\n",
       "    </tr>\n",
       "    <tr>\n",
       "      <th>1148011</th>\n",
       "      <td>3791504657</td>\n",
       "      <td>NaN</td>\n",
       "      <td>NaN</td>\n",
       "      <td>NaN</td>\n",
       "      <td>NaN</td>\n",
       "      <td>167185.0</td>\n",
       "      <td>0.0</td>\n",
       "      <td>m�nchengladbach, ,</td>\n",
       "      <td>18.0</td>\n",
       "    </tr>\n",
       "    <tr>\n",
       "      <th>1148012</th>\n",
       "      <td>3791504657</td>\n",
       "      <td>NaN</td>\n",
       "      <td>NaN</td>\n",
       "      <td>NaN</td>\n",
       "      <td>NaN</td>\n",
       "      <td>195860.0</td>\n",
       "      <td>9.0</td>\n",
       "      <td>j�chen, nordrhein-westfalen, germany</td>\n",
       "      <td>30.0</td>\n",
       "    </tr>\n",
       "    <tr>\n",
       "      <th>1148013</th>\n",
       "      <td>3810501409</td>\n",
       "      <td>NaN</td>\n",
       "      <td>NaN</td>\n",
       "      <td>NaN</td>\n",
       "      <td>NaN</td>\n",
       "      <td>208431.0</td>\n",
       "      <td>9.0</td>\n",
       "      <td>aachen, nordrhein-westfalen, germany</td>\n",
       "      <td>24.0</td>\n",
       "    </tr>\n",
       "  </tbody>\n",
       "</table>\n",
       "<p>536630 rows × 9 columns</p>\n",
       "</div>"
      ],
      "text/plain": [
       "               ISBN                                         Book-Title  \\\n",
       "1        0002005018                                       Clara Callan   \n",
       "3        0374157065  Flu: The Story of the Great Influenza Pandemic...   \n",
       "5        0399135782                             The Kitchen God's Wife   \n",
       "19       0002005018                                       Clara Callan   \n",
       "20       0786868716                 The Five People You Meet in Heaven   \n",
       "...             ...                                                ...   \n",
       "1148009  342619581X                                                NaN   \n",
       "1148010  3546003470                                                NaN   \n",
       "1148011  3791504657                                                NaN   \n",
       "1148012  3791504657                                                NaN   \n",
       "1148013  3810501409                                                NaN   \n",
       "\n",
       "                  Book-Author Book-Year-Of-Publication         Book-Publisher  \\\n",
       "1        Richard Bruce Wright                     2001  HarperFlamingo Canada   \n",
       "3            Gina Bari Kolata                     1999   Farrar Straus Giroux   \n",
       "5                     Amy Tan                     1991       Putnam Pub Group   \n",
       "19       Richard Bruce Wright                     2001  HarperFlamingo Canada   \n",
       "20                Mitch Albom                     2003               Hyperion   \n",
       "...                       ...                      ...                    ...   \n",
       "1148009                   NaN                      NaN                    NaN   \n",
       "1148010                   NaN                      NaN                    NaN   \n",
       "1148011                   NaN                      NaN                    NaN   \n",
       "1148012                   NaN                      NaN                    NaN   \n",
       "1148013                   NaN                      NaN                    NaN   \n",
       "\n",
       "          User-ID  Book-Rating                           User-Location  \\\n",
       "1             8.0          5.0                timmins, ontario, canada   \n",
       "3             8.0          0.0                timmins, ontario, canada   \n",
       "5             8.0          0.0                timmins, ontario, canada   \n",
       "19        11400.0          0.0                 ottawa, ontario, canada   \n",
       "20        11400.0          9.0                 ottawa, ontario, canada   \n",
       "...           ...          ...                                     ...   \n",
       "1148009  216615.0          0.0  dortmund, nordrhein-westfalen, germany   \n",
       "1148010  197820.0          0.0   cologne, nordrhein-westfalen, germany   \n",
       "1148011  167185.0          0.0                      m�nchengladbach, ,   \n",
       "1148012  195860.0          9.0    j�chen, nordrhein-westfalen, germany   \n",
       "1148013  208431.0          9.0    aachen, nordrhein-westfalen, germany   \n",
       "\n",
       "         User-Age  \n",
       "1             NaN  \n",
       "3             NaN  \n",
       "5             NaN  \n",
       "19           49.0  \n",
       "20           49.0  \n",
       "...           ...  \n",
       "1148009      22.0  \n",
       "1148010      20.0  \n",
       "1148011      18.0  \n",
       "1148012      30.0  \n",
       "1148013      24.0  \n",
       "\n",
       "[536630 rows x 9 columns]"
      ]
     },
     "execution_count": 19,
     "metadata": {},
     "output_type": "execute_result"
    }
   ],
   "source": [
    "merged_data = merged_data[merged_data.apply(lambda book: book['ISBN'] in most_ratings_per_book, axis=1)]\n",
    "merged_data"
   ]
  },
  {
   "cell_type": "code",
   "execution_count": 20,
   "id": "rotary-rachel",
   "metadata": {},
   "outputs": [
    {
     "data": {
      "text/plain": [
       "0971880107    2502\n",
       "0316666343    1295\n",
       "0385504209     883\n",
       "0060928336     732\n",
       "0312195516     723\n",
       "              ... \n",
       "0425071804      10\n",
       "0373030541      10\n",
       "0140445269      10\n",
       "0812518055      10\n",
       "0553577905      10\n",
       "Name: ISBN, Length: 18319, dtype: int64"
      ]
     },
     "execution_count": 20,
     "metadata": {},
     "output_type": "execute_result"
    }
   ],
   "source": [
    "merged_data['ISBN'].value_counts()"
   ]
  },
  {
   "cell_type": "markdown",
   "id": "plain-screw",
   "metadata": {},
   "source": [
    "### Remove users with less than 10 reviews to reduce processing time/cost for recommender"
   ]
  },
  {
   "cell_type": "code",
   "execution_count": 21,
   "id": "painful-reaction",
   "metadata": {},
   "outputs": [
    {
     "data": {
      "text/plain": [
       "11676.0     5399\n",
       "35859.0     2445\n",
       "153662.0    2098\n",
       "76352.0     1934\n",
       "198711.0    1607\n",
       "            ... \n",
       "222414.0       1\n",
       "17000.0        1\n",
       "278449.0       1\n",
       "266400.0       1\n",
       "99482.0        1\n",
       "Name: User-ID, Length: 67872, dtype: int64"
      ]
     },
     "execution_count": 21,
     "metadata": {},
     "output_type": "execute_result"
    }
   ],
   "source": [
    "merged_data['User-ID'].value_counts()"
   ]
  },
  {
   "cell_type": "code",
   "execution_count": 22,
   "id": "entertaining-clearing",
   "metadata": {},
   "outputs": [
    {
     "data": {
      "text/plain": [
       "11676.0     5399\n",
       "35859.0     2445\n",
       "153662.0    2098\n",
       "76352.0     1934\n",
       "198711.0    1607\n",
       "            ... \n",
       "125558.0      10\n",
       "148929.0      10\n",
       "9226.0        10\n",
       "150657.0      10\n",
       "273167.0      10\n",
       "Name: User-ID, Length: 7441, dtype: int64"
      ]
     },
     "execution_count": 22,
     "metadata": {},
     "output_type": "execute_result"
    }
   ],
   "source": [
    "most_ratings_per_user = merged_data['User-ID'].value_counts()\n",
    "to_remove = most_ratings_per_user[most_ratings_per_user < 10].index\n",
    "most_ratings_per_user.drop(to_remove, inplace=True)\n",
    "most_ratings_per_user"
   ]
  },
  {
   "cell_type": "code",
   "execution_count": 23,
   "id": "comparative-affect",
   "metadata": {},
   "outputs": [
    {
     "data": {
      "text/html": [
       "<div>\n",
       "<style scoped>\n",
       "    .dataframe tbody tr th:only-of-type {\n",
       "        vertical-align: middle;\n",
       "    }\n",
       "\n",
       "    .dataframe tbody tr th {\n",
       "        vertical-align: top;\n",
       "    }\n",
       "\n",
       "    .dataframe thead th {\n",
       "        text-align: right;\n",
       "    }\n",
       "</style>\n",
       "<table border=\"1\" class=\"dataframe\">\n",
       "  <thead>\n",
       "    <tr style=\"text-align: right;\">\n",
       "      <th></th>\n",
       "      <th>ISBN</th>\n",
       "      <th>Book-Title</th>\n",
       "      <th>Book-Author</th>\n",
       "      <th>Book-Year-Of-Publication</th>\n",
       "      <th>Book-Publisher</th>\n",
       "      <th>User-ID</th>\n",
       "      <th>Book-Rating</th>\n",
       "      <th>User-Location</th>\n",
       "      <th>User-Age</th>\n",
       "    </tr>\n",
       "  </thead>\n",
       "  <tbody>\n",
       "    <tr>\n",
       "      <th>19</th>\n",
       "      <td>0002005018</td>\n",
       "      <td>Clara Callan</td>\n",
       "      <td>Richard Bruce Wright</td>\n",
       "      <td>2001</td>\n",
       "      <td>HarperFlamingo Canada</td>\n",
       "      <td>11400.0</td>\n",
       "      <td>0.0</td>\n",
       "      <td>ottawa, ontario, canada</td>\n",
       "      <td>49.0</td>\n",
       "    </tr>\n",
       "    <tr>\n",
       "      <th>20</th>\n",
       "      <td>0786868716</td>\n",
       "      <td>The Five People You Meet in Heaven</td>\n",
       "      <td>Mitch Albom</td>\n",
       "      <td>2003</td>\n",
       "      <td>Hyperion</td>\n",
       "      <td>11400.0</td>\n",
       "      <td>9.0</td>\n",
       "      <td>ottawa, ontario, canada</td>\n",
       "      <td>49.0</td>\n",
       "    </tr>\n",
       "    <tr>\n",
       "      <th>21</th>\n",
       "      <td>0151008116</td>\n",
       "      <td>Life of Pi</td>\n",
       "      <td>Yann Martel</td>\n",
       "      <td>2002</td>\n",
       "      <td>Harcourt</td>\n",
       "      <td>11400.0</td>\n",
       "      <td>6.0</td>\n",
       "      <td>ottawa, ontario, canada</td>\n",
       "      <td>49.0</td>\n",
       "    </tr>\n",
       "    <tr>\n",
       "      <th>22</th>\n",
       "      <td>0671021001</td>\n",
       "      <td>She's Come Undone (Oprah's Book Club)</td>\n",
       "      <td>Wally Lamb</td>\n",
       "      <td>1998</td>\n",
       "      <td>Pocket</td>\n",
       "      <td>11400.0</td>\n",
       "      <td>0.0</td>\n",
       "      <td>ottawa, ontario, canada</td>\n",
       "      <td>49.0</td>\n",
       "    </tr>\n",
       "    <tr>\n",
       "      <th>23</th>\n",
       "      <td>0312195516</td>\n",
       "      <td>The Red Tent (Bestselling Backlist)</td>\n",
       "      <td>Anita Diamant</td>\n",
       "      <td>1998</td>\n",
       "      <td>Picador USA</td>\n",
       "      <td>11400.0</td>\n",
       "      <td>7.0</td>\n",
       "      <td>ottawa, ontario, canada</td>\n",
       "      <td>49.0</td>\n",
       "    </tr>\n",
       "    <tr>\n",
       "      <th>...</th>\n",
       "      <td>...</td>\n",
       "      <td>...</td>\n",
       "      <td>...</td>\n",
       "      <td>...</td>\n",
       "      <td>...</td>\n",
       "      <td>...</td>\n",
       "      <td>...</td>\n",
       "      <td>...</td>\n",
       "      <td>...</td>\n",
       "    </tr>\n",
       "    <tr>\n",
       "      <th>1091854</th>\n",
       "      <td>8806144383</td>\n",
       "      <td>NaN</td>\n",
       "      <td>NaN</td>\n",
       "      <td>NaN</td>\n",
       "      <td>NaN</td>\n",
       "      <td>48326.0</td>\n",
       "      <td>10.0</td>\n",
       "      <td>torino, piemonte, italy</td>\n",
       "      <td>NaN</td>\n",
       "    </tr>\n",
       "    <tr>\n",
       "      <th>1091855</th>\n",
       "      <td>8804507454</td>\n",
       "      <td>NaN</td>\n",
       "      <td>NaN</td>\n",
       "      <td>NaN</td>\n",
       "      <td>NaN</td>\n",
       "      <td>48326.0</td>\n",
       "      <td>0.0</td>\n",
       "      <td>torino, piemonte, italy</td>\n",
       "      <td>NaN</td>\n",
       "    </tr>\n",
       "    <tr>\n",
       "      <th>1091857</th>\n",
       "      <td>8807817039</td>\n",
       "      <td>NaN</td>\n",
       "      <td>NaN</td>\n",
       "      <td>NaN</td>\n",
       "      <td>NaN</td>\n",
       "      <td>48326.0</td>\n",
       "      <td>10.0</td>\n",
       "      <td>torino, piemonte, italy</td>\n",
       "      <td>NaN</td>\n",
       "    </tr>\n",
       "    <tr>\n",
       "      <th>1091859</th>\n",
       "      <td>8845916839</td>\n",
       "      <td>NaN</td>\n",
       "      <td>NaN</td>\n",
       "      <td>NaN</td>\n",
       "      <td>NaN</td>\n",
       "      <td>48326.0</td>\n",
       "      <td>8.0</td>\n",
       "      <td>torino, piemonte, italy</td>\n",
       "      <td>NaN</td>\n",
       "    </tr>\n",
       "    <tr>\n",
       "      <th>1091863</th>\n",
       "      <td>8845901602</td>\n",
       "      <td>NaN</td>\n",
       "      <td>NaN</td>\n",
       "      <td>NaN</td>\n",
       "      <td>NaN</td>\n",
       "      <td>48326.0</td>\n",
       "      <td>0.0</td>\n",
       "      <td>torino, piemonte, italy</td>\n",
       "      <td>NaN</td>\n",
       "    </tr>\n",
       "  </tbody>\n",
       "</table>\n",
       "<p>414719 rows × 9 columns</p>\n",
       "</div>"
      ],
      "text/plain": [
       "               ISBN                             Book-Title  \\\n",
       "19       0002005018                           Clara Callan   \n",
       "20       0786868716     The Five People You Meet in Heaven   \n",
       "21       0151008116                             Life of Pi   \n",
       "22       0671021001  She's Come Undone (Oprah's Book Club)   \n",
       "23       0312195516    The Red Tent (Bestselling Backlist)   \n",
       "...             ...                                    ...   \n",
       "1091854  8806144383                                    NaN   \n",
       "1091855  8804507454                                    NaN   \n",
       "1091857  8807817039                                    NaN   \n",
       "1091859  8845916839                                    NaN   \n",
       "1091863  8845901602                                    NaN   \n",
       "\n",
       "                  Book-Author Book-Year-Of-Publication         Book-Publisher  \\\n",
       "19       Richard Bruce Wright                     2001  HarperFlamingo Canada   \n",
       "20                Mitch Albom                     2003               Hyperion   \n",
       "21                Yann Martel                     2002               Harcourt   \n",
       "22                 Wally Lamb                     1998                 Pocket   \n",
       "23              Anita Diamant                     1998            Picador USA   \n",
       "...                       ...                      ...                    ...   \n",
       "1091854                   NaN                      NaN                    NaN   \n",
       "1091855                   NaN                      NaN                    NaN   \n",
       "1091857                   NaN                      NaN                    NaN   \n",
       "1091859                   NaN                      NaN                    NaN   \n",
       "1091863                   NaN                      NaN                    NaN   \n",
       "\n",
       "         User-ID  Book-Rating            User-Location  User-Age  \n",
       "19       11400.0          0.0  ottawa, ontario, canada      49.0  \n",
       "20       11400.0          9.0  ottawa, ontario, canada      49.0  \n",
       "21       11400.0          6.0  ottawa, ontario, canada      49.0  \n",
       "22       11400.0          0.0  ottawa, ontario, canada      49.0  \n",
       "23       11400.0          7.0  ottawa, ontario, canada      49.0  \n",
       "...          ...          ...                      ...       ...  \n",
       "1091854  48326.0         10.0  torino, piemonte, italy       NaN  \n",
       "1091855  48326.0          0.0  torino, piemonte, italy       NaN  \n",
       "1091857  48326.0         10.0  torino, piemonte, italy       NaN  \n",
       "1091859  48326.0          8.0  torino, piemonte, italy       NaN  \n",
       "1091863  48326.0          0.0  torino, piemonte, italy       NaN  \n",
       "\n",
       "[414719 rows x 9 columns]"
      ]
     },
     "execution_count": 23,
     "metadata": {},
     "output_type": "execute_result"
    }
   ],
   "source": [
    "merged_data = merged_data[merged_data.apply(lambda rating: rating['User-ID'] in most_ratings_per_user, axis=1)]\n",
    "merged_data"
   ]
  },
  {
   "cell_type": "code",
   "execution_count": 24,
   "id": "accompanied-development",
   "metadata": {},
   "outputs": [
    {
     "data": {
      "text/plain": [
       "11676.0     5399\n",
       "35859.0     2445\n",
       "153662.0    2098\n",
       "76352.0     1934\n",
       "198711.0    1607\n",
       "            ... \n",
       "72770.0       10\n",
       "264828.0      10\n",
       "67298.0       10\n",
       "35144.0       10\n",
       "26418.0       10\n",
       "Name: User-ID, Length: 7441, dtype: int64"
      ]
     },
     "execution_count": 24,
     "metadata": {},
     "output_type": "execute_result"
    }
   ],
   "source": [
    "merged_data['User-ID'].value_counts()"
   ]
  },
  {
   "cell_type": "code",
   "execution_count": 25,
   "id": "lyric-change",
   "metadata": {},
   "outputs": [
    {
     "name": "stdout",
     "output_type": "stream",
     "text": [
      "<class 'pandas.core.frame.DataFrame'>\n",
      "Int64Index: 414719 entries, 19 to 1091863\n",
      "Data columns (total 9 columns):\n",
      " #   Column                    Non-Null Count   Dtype  \n",
      "---  ------                    --------------   -----  \n",
      " 0   ISBN                      414719 non-null  object \n",
      " 1   Book-Title                404698 non-null  object \n",
      " 2   Book-Author               404698 non-null  object \n",
      " 3   Book-Year-Of-Publication  404698 non-null  object \n",
      " 4   Book-Publisher            404698 non-null  object \n",
      " 5   User-ID                   414719 non-null  float64\n",
      " 6   Book-Rating               414719 non-null  float64\n",
      " 7   User-Location             414719 non-null  object \n",
      " 8   User-Age                  311958 non-null  float64\n",
      "dtypes: float64(3), object(6)\n",
      "memory usage: 31.6+ MB\n"
     ]
    }
   ],
   "source": [
    "merged_data.info()"
   ]
  },
  {
   "cell_type": "markdown",
   "id": "vocal-bleeding",
   "metadata": {},
   "source": [
    "### Specify datatypes to reduce memory impact (slightly)"
   ]
  },
  {
   "cell_type": "code",
   "execution_count": 26,
   "id": "consolidated-castle",
   "metadata": {},
   "outputs": [
    {
     "name": "stderr",
     "output_type": "stream",
     "text": [
      "/opt/conda/lib/python3.7/site-packages/ipykernel_launcher.py:1: SettingWithCopyWarning: \n",
      "A value is trying to be set on a copy of a slice from a DataFrame.\n",
      "Try using .loc[row_indexer,col_indexer] = value instead\n",
      "\n",
      "See the caveats in the documentation: https://pandas.pydata.org/pandas-docs/stable/user_guide/indexing.html#returning-a-view-versus-a-copy\n",
      "  \"\"\"Entry point for launching an IPython kernel.\n",
      "/opt/conda/lib/python3.7/site-packages/ipykernel_launcher.py:2: SettingWithCopyWarning: \n",
      "A value is trying to be set on a copy of a slice from a DataFrame.\n",
      "Try using .loc[row_indexer,col_indexer] = value instead\n",
      "\n",
      "See the caveats in the documentation: https://pandas.pydata.org/pandas-docs/stable/user_guide/indexing.html#returning-a-view-versus-a-copy\n",
      "  \n"
     ]
    }
   ],
   "source": [
    "merged_data['User-ID'] = merged_data['User-ID'].astype(np.int32)\n",
    "merged_data['Book-Rating'] = merged_data['Book-Rating'].astype(np.int16)"
   ]
  },
  {
   "cell_type": "code",
   "execution_count": 27,
   "id": "modular-robin",
   "metadata": {},
   "outputs": [
    {
     "name": "stderr",
     "output_type": "stream",
     "text": [
      "/opt/conda/lib/python3.7/site-packages/ipykernel_launcher.py:3: SettingWithCopyWarning: \n",
      "A value is trying to be set on a copy of a slice from a DataFrame.\n",
      "Try using .loc[row_indexer,col_indexer] = value instead\n",
      "\n",
      "See the caveats in the documentation: https://pandas.pydata.org/pandas-docs/stable/user_guide/indexing.html#returning-a-view-versus-a-copy\n",
      "  This is separate from the ipykernel package so we can avoid doing imports until\n"
     ]
    }
   ],
   "source": [
    "# year of publication should be an integer but having np.nan in a column transforms it into float datatype\n",
    "\n",
    "merged_data['Book-Year-Of-Publication'] = merged_data['Book-Year-Of-Publication'].astype(np.float16)\n",
    "#merged_data['Book-Year-Of-Publication'] = merged_data['Book-Year-Of-Publication'].replace(np.nan, -1).astype(int).replace(-1, np.nan)"
   ]
  },
  {
   "cell_type": "code",
   "execution_count": 28,
   "id": "logical-island",
   "metadata": {},
   "outputs": [
    {
     "name": "stdout",
     "output_type": "stream",
     "text": [
      "<class 'pandas.core.frame.DataFrame'>\n",
      "Int64Index: 414719 entries, 19 to 1091863\n",
      "Data columns (total 7 columns):\n",
      " #   Column                    Non-Null Count   Dtype  \n",
      "---  ------                    --------------   -----  \n",
      " 0   ISBN                      414719 non-null  object \n",
      " 1   Book-Title                404698 non-null  object \n",
      " 2   Book-Author               404698 non-null  object \n",
      " 3   Book-Year-Of-Publication  404698 non-null  float16\n",
      " 4   Book-Publisher            404698 non-null  object \n",
      " 5   User-ID                   414719 non-null  int32  \n",
      " 6   Book-Rating               414719 non-null  int16  \n",
      "dtypes: float16(1), int16(1), int32(1), object(4)\n",
      "memory usage: 19.0+ MB\n"
     ]
    },
    {
     "name": "stderr",
     "output_type": "stream",
     "text": [
      "/opt/conda/lib/python3.7/site-packages/pandas/core/frame.py:4312: SettingWithCopyWarning: \n",
      "A value is trying to be set on a copy of a slice from a DataFrame\n",
      "\n",
      "See the caveats in the documentation: https://pandas.pydata.org/pandas-docs/stable/user_guide/indexing.html#returning-a-view-versus-a-copy\n",
      "  errors=errors,\n"
     ]
    }
   ],
   "source": [
    "merged_data.drop(columns=['User-Location','User-Age'], inplace=True)\n",
    "merged_data.info()"
   ]
  },
  {
   "cell_type": "code",
   "execution_count": 29,
   "id": "filled-revision",
   "metadata": {
    "scrolled": true
   },
   "outputs": [
    {
     "data": {
      "text/html": [
       "<div>\n",
       "<style scoped>\n",
       "    .dataframe tbody tr th:only-of-type {\n",
       "        vertical-align: middle;\n",
       "    }\n",
       "\n",
       "    .dataframe tbody tr th {\n",
       "        vertical-align: top;\n",
       "    }\n",
       "\n",
       "    .dataframe thead th {\n",
       "        text-align: right;\n",
       "    }\n",
       "</style>\n",
       "<table border=\"1\" class=\"dataframe\">\n",
       "  <thead>\n",
       "    <tr style=\"text-align: right;\">\n",
       "      <th></th>\n",
       "      <th>ISBN</th>\n",
       "      <th>Book-Title</th>\n",
       "      <th>Book-Author</th>\n",
       "      <th>Book-Year-Of-Publication</th>\n",
       "      <th>Book-Publisher</th>\n",
       "      <th>User-ID</th>\n",
       "      <th>Book-Rating</th>\n",
       "    </tr>\n",
       "  </thead>\n",
       "  <tbody>\n",
       "    <tr>\n",
       "      <th>19</th>\n",
       "      <td>0002005018</td>\n",
       "      <td>Clara Callan</td>\n",
       "      <td>Richard Bruce Wright</td>\n",
       "      <td>2001.0</td>\n",
       "      <td>HarperFlamingo Canada</td>\n",
       "      <td>11400</td>\n",
       "      <td>0</td>\n",
       "    </tr>\n",
       "    <tr>\n",
       "      <th>20</th>\n",
       "      <td>0786868716</td>\n",
       "      <td>The Five People You Meet in Heaven</td>\n",
       "      <td>Mitch Albom</td>\n",
       "      <td>2003.0</td>\n",
       "      <td>Hyperion</td>\n",
       "      <td>11400</td>\n",
       "      <td>9</td>\n",
       "    </tr>\n",
       "    <tr>\n",
       "      <th>21</th>\n",
       "      <td>0151008116</td>\n",
       "      <td>Life of Pi</td>\n",
       "      <td>Yann Martel</td>\n",
       "      <td>2002.0</td>\n",
       "      <td>Harcourt</td>\n",
       "      <td>11400</td>\n",
       "      <td>6</td>\n",
       "    </tr>\n",
       "    <tr>\n",
       "      <th>22</th>\n",
       "      <td>0671021001</td>\n",
       "      <td>She's Come Undone (Oprah's Book Club)</td>\n",
       "      <td>Wally Lamb</td>\n",
       "      <td>1998.0</td>\n",
       "      <td>Pocket</td>\n",
       "      <td>11400</td>\n",
       "      <td>0</td>\n",
       "    </tr>\n",
       "    <tr>\n",
       "      <th>23</th>\n",
       "      <td>0312195516</td>\n",
       "      <td>The Red Tent (Bestselling Backlist)</td>\n",
       "      <td>Anita Diamant</td>\n",
       "      <td>1998.0</td>\n",
       "      <td>Picador USA</td>\n",
       "      <td>11400</td>\n",
       "      <td>7</td>\n",
       "    </tr>\n",
       "  </tbody>\n",
       "</table>\n",
       "</div>"
      ],
      "text/plain": [
       "          ISBN                             Book-Title           Book-Author  \\\n",
       "19  0002005018                           Clara Callan  Richard Bruce Wright   \n",
       "20  0786868716     The Five People You Meet in Heaven           Mitch Albom   \n",
       "21  0151008116                             Life of Pi           Yann Martel   \n",
       "22  0671021001  She's Come Undone (Oprah's Book Club)            Wally Lamb   \n",
       "23  0312195516    The Red Tent (Bestselling Backlist)         Anita Diamant   \n",
       "\n",
       "    Book-Year-Of-Publication         Book-Publisher  User-ID  Book-Rating  \n",
       "19                    2001.0  HarperFlamingo Canada    11400            0  \n",
       "20                    2003.0               Hyperion    11400            9  \n",
       "21                    2002.0               Harcourt    11400            6  \n",
       "22                    1998.0                 Pocket    11400            0  \n",
       "23                    1998.0            Picador USA    11400            7  "
      ]
     },
     "execution_count": 29,
     "metadata": {},
     "output_type": "execute_result"
    }
   ],
   "source": [
    "merged_data.head()"
   ]
  },
  {
   "cell_type": "code",
   "execution_count": 30,
   "id": "documentary-norfolk",
   "metadata": {},
   "outputs": [],
   "source": [
    "merged_data.reset_index(drop=True).to_feather('data.feather')"
   ]
  }
 ],
 "metadata": {
  "kernelspec": {
   "display_name": "Python 3",
   "language": "python",
   "name": "python3"
  },
  "language_info": {
   "codemirror_mode": {
    "name": "ipython",
    "version": 3
   },
   "file_extension": ".py",
   "mimetype": "text/x-python",
   "name": "python",
   "nbconvert_exporter": "python",
   "pygments_lexer": "ipython3",
   "version": "3.7.9"
  }
 },
 "nbformat": 4,
 "nbformat_minor": 5
}
